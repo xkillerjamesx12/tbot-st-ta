{
 "cells": [
  {
   "cell_type": "code",
   "execution_count": 27,
   "metadata": {},
   "outputs": [],
   "source": [
    "#loading file\n",
    "import pandas as pd\n",
    "import numpy as np\n",
    "df = pd.read_csv(\"/Users/hoyinchui/Downloads/GLD-20041118-20250119.csv\")\n"
   ]
  },
  {
   "cell_type": "code",
   "execution_count": 28,
   "metadata": {},
   "outputs": [],
   "source": [
    "df['Date'] = pd.to_datetime(df['Date'], utc=True)"
   ]
  },
  {
   "cell_type": "code",
   "execution_count": 29,
   "metadata": {},
   "outputs": [
    {
     "name": "stdout",
     "output_type": "stream",
     "text": [
      "Date             datetime64[ns, UTC]\n",
      "Open                         float64\n",
      "High                         float64\n",
      "Low                          float64\n",
      "Close                        float64\n",
      "Volume                         int64\n",
      "Dividends                    float64\n",
      "Stock Splits                 float64\n",
      "Capital Gains                float64\n",
      "dtype: object\n"
     ]
    }
   ],
   "source": [
    "print(df.dtypes)"
   ]
  },
  {
   "cell_type": "code",
   "execution_count": 30,
   "metadata": {},
   "outputs": [],
   "source": [
    "df_date_removed = df.drop(columns=['Date'])\n"
   ]
  },
  {
   "cell_type": "code",
   "execution_count": 31,
   "metadata": {},
   "outputs": [],
   "source": [
    "#normalizing the data in the dataframe\n",
    "from sklearn.preprocessing import MinMaxScaler\n",
    "scaler = MinMaxScaler()\n",
    "df_normalized = scaler.fit_transform(df_date_removed)\n"
   ]
  },
  {
   "cell_type": "code",
   "execution_count": 35,
   "metadata": {},
   "outputs": [
    {
     "name": "stdout",
     "output_type": "stream",
     "text": [
      "\n",
      "Window size: 7 - X: (5061, 7, 8), y: (5061, 7, 2)\n",
      "Done Saving X\n",
      "Done Saving y\n",
      "\n",
      "Window size: 14 - X: (5054, 14, 8), y: (5054, 7, 2)\n",
      "Done Saving X\n",
      "Done Saving y\n",
      "\n",
      "Window size: 30 - X: (5038, 30, 8), y: (5038, 7, 2)\n",
      "Done Saving X\n",
      "Done Saving y\n",
      "\n",
      "Window size: 60 - X: (5008, 60, 8), y: (5008, 7, 2)\n",
      "Done Saving X\n",
      "Done Saving y\n"
     ]
    }
   ],
   "source": [
    "#####################################################################\n",
    "#               individual-prediction-model design data             #\n",
    "#####################################################################\n",
    "import pickle\n",
    "\n",
    "window_sizes = [7, 14, 30, 60] \n",
    "target_days = 7  \n",
    "\n",
    "def create_sliding_window_data(data, window_size, target_days):\n",
    "    X, y = [], []\n",
    "\n",
    "    # Loop through the data to create sliding windows\n",
    "    for i in range(len(data) - window_size - target_days+1):\n",
    "        X_window = data[i:i + window_size]  # Data from [i, i+window_size-1]\n",
    "        y_target = data[i + window_size:i + window_size + target_days, 1:3]  # Target: Low and High columns\n",
    "\n",
    "        X.append(X_window)\n",
    "        y.append(y_target)\n",
    "\n",
    "    # Convert to NumPy arrays\n",
    "    X = np.array(X)\n",
    "    y = np.array(y)\n",
    "\n",
    "    return X, y\n",
    "\n",
    "# Create sliding window data\n",
    "for i in range(len(window_sizes)):\n",
    "    X, y = create_sliding_window_data(df_normalized, window_sizes[i], target_days)\n",
    "    print()\n",
    "    print(f\"Window size: {window_sizes[i]} - X: {X.shape}, y: {y.shape}\")\n",
    "    with open(f'/Users/hoyinchui/Downloads/X_{window_sizes[i]}days_i.pkl', 'wb') as file:\n",
    "        pickle.dump(X, file)\n",
    "    print(\"Done Saving X\")    \n",
    "    with open(f'/Users/hoyinchui/Downloads/y_{window_sizes[i]}days_i.pkl', 'wb') as file:\n",
    "        pickle.dump(y, file) \n",
    "    print(\"Done Saving y\")    \n"
   ]
  },
  {
   "cell_type": "code",
   "execution_count": 36,
   "metadata": {},
   "outputs": [
    {
     "name": "stdout",
     "output_type": "stream",
     "text": [
      "\n",
      "Window size: 7 - X: (5008, 7, 8), y: (5008, 7, 2)\n",
      "Done Saving X\n",
      "Done Saving y\n",
      "\n",
      "Window size: 14 - X: (5008, 14, 8), y: (0,)\n",
      "Done Saving X\n",
      "\n",
      "Window size: 30 - X: (5008, 30, 8), y: (0,)\n",
      "Done Saving X\n",
      "\n",
      "Window size: 60 - X: (5008, 60, 8), y: (0,)\n",
      "Done Saving X\n"
     ]
    }
   ],
   "source": [
    "########################################################\n",
    "#               All-in-1-model design data             #\n",
    "########################################################\n",
    "window_sizes = [7, 14, 30, 60] \n",
    "max_window_size = max(window_sizes)\n",
    "target_days = 7  \n",
    "\n",
    "def create_sliding_window_data_a(i_from_window_size_loop, data, window_size, max_window_size, target_days):\n",
    "    X, y = [], []\n",
    "\n",
    "    # Loop through the data to create sliding windows\n",
    "    for i in range(max_window_size, len(data) - target_days+1):\n",
    "        if i_from_window_size_loop == 0:\n",
    "            y_target = data[i :i + target_days, 1:3] \n",
    "            y.append(y_target)\n",
    "        X_window = data[i-window_size:i]  # Data from [i, i+window_size-1]\n",
    "        #X_window = data[i-window_size:i, 1:3] \n",
    "        X.append(X_window)\n",
    "\n",
    "\n",
    "    # Convert to NumPy arrays\n",
    "    X = np.array(X)\n",
    "    y = np.array(y)\n",
    "\n",
    "    return X, y\n",
    "\n",
    "# Create sliding window data\n",
    "for i in range(len(window_sizes)):\n",
    "    X, y = create_sliding_window_data_a(i, df_normalized, window_sizes[i], max_window_size, target_days)\n",
    "    print()\n",
    "    print(f\"Window size: {window_sizes[i]} - X: {X.shape}, y: {y.shape}\")\n",
    "    # Save to pickle instead of csv, plk can store multi-dimensional array, and csv will turn it into string\n",
    "    with open(f'/Users/hoyinchui/Downloads/X_{window_sizes[i]}days_a.pkl', 'wb') as file:\n",
    "        pickle.dump(X, file)\n",
    "    print(\"Done Saving X\") \n",
    "    if i == 0:\n",
    "        with open(f'/Users/hoyinchui/Downloads/y_a.pkl', 'wb') as file:\n",
    "            pickle.dump(y, file)\n",
    "            print(\"Done Saving y\")  \n"
   ]
  }
 ],
 "metadata": {
  "kernelspec": {
   "display_name": "base",
   "language": "python",
   "name": "python3"
  },
  "language_info": {
   "codemirror_mode": {
    "name": "ipython",
    "version": 3
   },
   "file_extension": ".py",
   "mimetype": "text/x-python",
   "name": "python",
   "nbconvert_exporter": "python",
   "pygments_lexer": "ipython3",
   "version": "3.12.4"
  }
 },
 "nbformat": 4,
 "nbformat_minor": 2
}
