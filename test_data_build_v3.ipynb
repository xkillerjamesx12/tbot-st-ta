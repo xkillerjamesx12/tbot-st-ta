{
 "cells": [
  {
   "cell_type": "code",
   "execution_count": 1,
   "metadata": {},
   "outputs": [],
   "source": [
    "import pandas as pd\n",
    "import numpy as np\n",
    "from sklearn.preprocessing import MinMaxScaler\n",
    "import pickle\n",
    "import yfinance as yf"
   ]
  },
  {
   "cell_type": "code",
   "execution_count": 2,
   "metadata": {},
   "outputs": [],
   "source": [
    "def get_Data(ticker, start_date = \"2005-01-01\", end_date = \"2025-01-19\"):\n",
    "    try:\n",
    "        ticker_data = yf.Ticker(ticker)\n",
    "        historical_data = ticker_data.history(interval=\"1d\", start=start_date, end=end_date)\n",
    "        return historical_data\n",
    "    except Exception as e:\n",
    "        print(f\"Error fetching data for {ticker}: {e}\")"
   ]
  },
  {
   "cell_type": "code",
   "execution_count": 3,
   "metadata": {},
   "outputs": [
    {
     "name": "stdout",
     "output_type": "stream",
     "text": [
      "Fetching data for GLD...\n",
      "Fetching data for GDX...\n"
     ]
    }
   ],
   "source": [
    "# base model data\n",
    "tickers = [\"GLD\", \"GDX\"]\n",
    "data_base = {}\n",
    "for ticker in tickers:\n",
    "    print(f\"Fetching data for {ticker}...\")\n",
    "    data = get_Data(ticker, start_date=\"2005-01-01\", end_date=\"2025-01-19\")\n",
    "    data = data.reset_index()\n",
    "    data_base[ticker] = data"
   ]
  },
  {
   "cell_type": "code",
   "execution_count": null,
   "metadata": {},
   "outputs": [],
   "source": [
    "#target data(ensemble)\n",
    "target_stock = [\"GLD\"]\n",
    "data_ensemble = {}\n",
    "for ticker in target_stock:\n",
    "    target_stock_data = get_Data(ticker, start_date=\"2005-01-01\", end_date=\"2025-01-19\") \n",
    "    target_stock_data = target_stock_data.reset_index()\n",
    "    data_ensemble[ticker] = target_stock_data"
   ]
  },
  {
   "cell_type": "code",
   "execution_count": null,
   "metadata": {},
   "outputs": [],
   "source": [
    "'''defineing indicators with def function\n",
    "and will call then in the indicator_building(data)\n",
    "'''\n"
   ]
  },
  {
   "cell_type": "code",
   "execution_count": null,
   "metadata": {},
   "outputs": [],
   "source": [
    "def indicator_building(data):\n",
    "    #the data would be a df from the raw data\n",
    "    #we will add the indicators to the data with pandas functions\n",
    "    #e.g. df[new_column] = indictor function(df)\n",
    "    \n",
    "    return data"
   ]
  },
  {
   "cell_type": "code",
   "execution_count": null,
   "metadata": {},
   "outputs": [],
   "source": [
    "# base model data indicators\n",
    "for ticker in data_base:\n",
    "    data_base[ticker] = indicator_building(data_base[ticker])\n",
    "# ensemble model data indicators\n",
    "for ticker in data_ensemble:\n",
    "    data_ensemble[ticker] = indicator_building(data_ensemble[ticker])"
   ]
  },
  {
   "cell_type": "code",
   "execution_count": null,
   "metadata": {},
   "outputs": [],
   "source": [
    "def normalize_data(data):\n",
    "    #the data would be a df from the raw data\n",
    "    #we will normalize the data with MinMaxScaler\n",
    "    #return the normalized data\n",
    "    \n",
    "    return data"
   ]
  },
  {
   "cell_type": "code",
   "execution_count": null,
   "metadata": {},
   "outputs": [],
   "source": [
    "def difference (data):\n",
    "    #the data would be a df from the raw data\n",
    "    #we will difference the data with the shift function\n",
    "    #return the differenced data\n",
    "    \n",
    "    return data"
   ]
  }
 ],
 "metadata": {
  "kernelspec": {
   "display_name": "base",
   "language": "python",
   "name": "python3"
  },
  "language_info": {
   "codemirror_mode": {
    "name": "ipython",
    "version": 3
   },
   "file_extension": ".py",
   "mimetype": "text/x-python",
   "name": "python",
   "nbconvert_exporter": "python",
   "pygments_lexer": "ipython3",
   "version": "3.12.4"
  }
 },
 "nbformat": 4,
 "nbformat_minor": 2
}
